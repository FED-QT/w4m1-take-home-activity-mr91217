{
 "cells": [
  {
   "cell_type": "markdown",
   "id": "48b627c9-068e-4d0c-85c7-1e2319ced95c",
   "metadata": {},
   "source": [
    "## "
   ]
  },
  {
   "cell_type": "markdown",
   "id": "2117d20e-fec5-4bc6-b333-39c4cfb73de5",
   "metadata": {},
   "source": []
  },
  {
   "cell_type": "markdown",
   "id": "42c7178c-2b62-416a-a433-40029f758516",
   "metadata": {},
   "source": [
    "📝 Group 1\n",
    "\n",
    "### E: `longest_run_char(s) → str`\n",
    "\n",
    "**Scenario:**\n",
    "Imagine you’re analyzing a raw data stream of sensor readings encoded as letters. A “run” of the same reading often indicates a sustained event.\n",
    "\n",
    "**Problem:**\n",
    "Scan the input string `s` and return the single character that forms the longest consecutive run. If two characters tie for length, return the one whose run appears first. If `s` is empty, return `\"\"`.\n",
    "\n",
    "**Examples:**\n",
    "\n",
    "```python\n",
    "longest_run_char(\"aaabbcaaaa\")   # → \"a\"  (runs: \"aaa\",\"bb\",\"c\",\"aaaa\" → pick 'a')\n",
    "longest_run_char(\"xyz\")          # → \"x\"  (all runs length=1, first is 'x')\n",
    "longest_run_char(\"\")             # → \"\"\n",
    "```\n",
    "\n",
    "---"
   ]
  },
  {
   "cell_type": "code",
   "execution_count": 1,
   "id": "27be763b-2640-421f-97cf-45b10db465e9",
   "metadata": {},
   "outputs": [
    {
     "name": "stdout",
     "output_type": "stream",
     "text": [
      "a\n",
      "x\n",
      "\n"
     ]
    }
   ],
   "source": [
    "def longest_run_char(s):\n",
    "    if not s:\n",
    "        return \"\"\n",
    "\n",
    "    max_char = s[0]\n",
    "    max_len = 1\n",
    "    current_char = s[0]\n",
    "    current_len = 1\n",
    "\n",
    "    for i in range(1, len(s)):\n",
    "        if s[i] == current_char:\n",
    "            current_len = current_len + 1\n",
    "        else:\n",
    "            if current_len > max_len:\n",
    "                max_len = current_len\n",
    "                max_char = current_char\n",
    "            current_char = s[i]\n",
    "            current_len = 1\n",
    "\n",
    "    \n",
    "    if current_len > max_len:\n",
    "        max_char = current_char\n",
    "\n",
    "    return max_char\n",
    "\n",
    "print(longest_run_char(\"aaabbcaaaa\"))  # → \"a\" (runs: \"aaa\",\"bb\",\"c\",\"aaaa\" → pick 'a')\n",
    "print(longest_run_char(\"xyz\"))         # → \"x\" (all runs length=1, first is 'x')\n",
    "print(longest_run_char(\"\"))            # → \"\""
   ]
  },
  {
   "cell_type": "markdown",
   "id": "5ce3dd91-2460-4c62-8810-e4df52554889",
   "metadata": {},
   "source": [
    "### M: `longest_run_len(s) → int`\n",
    "\n",
    "**Scenario:**\n",
    "Your text‑processing tool highlights the longest sequence of repeated characters (e.g., in Markdown “###” headers). You need only the length to style it.\n",
    "\n",
    "**Problem:**\n",
    "Return the integer length of the longest consecutive run of the same character in `s`. If `s` is empty, return `0`.\n",
    "\n",
    "**Examples:**\n",
    "\n",
    "```python\n",
    "longest_run_len(\"aaabbcaaaa\")   # → 4\n",
    "longest_run_len(\"xyz\")          # → 1\n",
    "longest_run_len(\"\")             # → 0\n",
    "```\n",
    "\n",
    "---"
   ]
  },
  {
   "cell_type": "code",
   "execution_count": 3,
   "id": "d3f2178f-eeb1-4eaf-87c5-ab3dd45bc8c8",
   "metadata": {},
   "outputs": [
    {
     "name": "stdout",
     "output_type": "stream",
     "text": [
      "4\n",
      "1\n",
      "0\n"
     ]
    }
   ],
   "source": [
    "def longest_run_len(s):\n",
    "    if not s:\n",
    "        return 0\n",
    "\n",
    "    max_len = 1\n",
    "    current_len = 1\n",
    "\n",
    "    for i in range(1, len(s)):\n",
    "        if s[i] == s[i - 1]:\n",
    "            current_len = current_len + 1\n",
    "            if current_len > max_len:\n",
    "                max_len = current_len\n",
    "        else:\n",
    "            current_len = 1\n",
    "\n",
    "    return max_len\n",
    "\n",
    "print(longest_run_len(\"aaabbcaaaa\"))   # → 4\n",
    "print(longest_run_len(\"xyz\"))          # → 1\n",
    "print(longest_run_len(\"\"))             # → 0"
   ]
  },
  {
   "cell_type": "markdown",
   "id": "e8531ec7-2e4b-4116-9041-e0b41649badb",
   "metadata": {},
   "source": [
    "### H: `remove_duplicates(s) → str`\n",
    "\n",
    "**Scenario:**\n",
    "You’re processing a user’s keystroke log where repeated keys are allowed only once. To sanitize input, you must drop every subsequent repeat of each character, keeping only the first appearance.\n",
    "\n",
    "**Problem:**\n",
    "Produce a new string by removing all but the first occurrence of each character in `s`, preserving the original order of first appearances. Return `\"\"` if `s` is empty.\n",
    "\n",
    "**Examples:**\n",
    "\n",
    "```python\n",
    "remove_duplicates(\"banana\")     # → \"ban\"\n",
    "remove_duplicates(\"aabbcc\")     # → \"abc\"\n",
    "remove_duplicates(\"Mississippi\")# → \"Misaph\"\n",
    "```\n",
    "\n",
    "---"
   ]
  },
  {
   "cell_type": "code",
   "execution_count": 8,
   "id": "7e3b135e-763d-41e1-9746-a1e2b315250c",
   "metadata": {},
   "outputs": [
    {
     "name": "stdout",
     "output_type": "stream",
     "text": [
      "ban\n",
      "abc\n",
      "Misp\n"
     ]
    }
   ],
   "source": [
    "def remove_duplicates(s):\n",
    "    seen = []\n",
    "    result = \"\"\n",
    "    for char in s:\n",
    "        \n",
    "        if char not in seen:\n",
    "            seen.append(char)\n",
    "            result = result + char\n",
    "            \n",
    "    return result\n",
    "\n",
    "\n",
    "\n",
    "print(remove_duplicates(\"banana\"))       # → \"ban\"\n",
    "print(remove_duplicates(\"aabbcc\"))       # → \"abc\"\n",
    "print(remove_duplicates(\"Mississippi\"))  # → \"Misp\""
   ]
  }
 ],
 "metadata": {
  "kernelspec": {
   "display_name": "Python 3 (ipykernel)",
   "language": "python",
   "name": "python3"
  },
  "language_info": {
   "codemirror_mode": {
    "name": "ipython",
    "version": 3
   },
   "file_extension": ".py",
   "mimetype": "text/x-python",
   "name": "python",
   "nbconvert_exporter": "python",
   "pygments_lexer": "ipython3",
   "version": "3.13.3"
  }
 },
 "nbformat": 4,
 "nbformat_minor": 5
}
